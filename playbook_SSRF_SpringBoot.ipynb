{
  "nbformat": 4,
  "nbformat_minor": 0,
  "metadata": {
    "colab": {
      "provenance": []
    },
    "kernelspec": {
      "name": "python3",
      "display_name": "Python 3"
    },
    "language_info": {
      "name": "python"
    }
  },
  "cells": [
    {
      "cell_type": "markdown",
      "source": [
        "# **Play Book For Spotting SSRF Vulnerability and fixing (For SpringBoot Applications)**\n",
        "\n",
        "\n",
        "---\n",
        "\n",
        "**Cause:** Directly incorporating user input into an HTTP request without validating\n",
        "\n",
        "\n",
        "---\n",
        "\n"
      ],
      "metadata": {
        "id": "USDyAMI5Bc6-"
      }
    },
    {
      "cell_type": "markdown",
      "source": [
        "**Start**"
      ],
      "metadata": {
        "id": "8brpTXIEVswX"
      }
    },
    {
      "cell_type": "markdown",
      "source": [
        "**Step 1:** Get the Source code URL and Clone it to your local PC\n",
        "\n",
        "\n",
        "> For AMRIT project https://github.com/PSMRI/HWC-API.git is the Source Code URL. You Can open the Command Prompt in you local pc and use `git\n",
        "clone https://github.com/PSMRI/HWC-API.git` to clone the `HWC-API` Project.\n",
        "\n",
        "\n",
        "\n",
        "\n",
        "\n",
        "\n"
      ],
      "metadata": {
        "id": "6nhuZ7s_B5-I"
      }
    },
    {
      "cell_type": "markdown",
      "source": [
        "**Step 2:** Ensure you have Docker Desktop installed. Open the terminal/command prompt and run `docker --version` command and it should print Docker version.\n",
        "\n",
        "If not please use https://docs.docker.com/desktop/ guide to install it on your local PC."
      ],
      "metadata": {
        "id": "PX82_q4pNg0N"
      }
    },
    {
      "cell_type": "markdown",
      "source": [
        "**Step 3:** Keep the below `Dockerfile` in the project directory. In this case the Project Directory is `HWC_API`.\n",
        "\n",
        "\n",
        "```\n",
        "# Use the official Maven image as a build stage.\n",
        "FROM maven:3.8.4 AS build\n",
        "\n",
        "# Set the working directory in the container.\n",
        "WORKDIR /app\n",
        "\n",
        "# Copy the POM file to the container.\n",
        "COPY pom.xml .\n",
        "\n",
        "# Copy the entire application source code to the container.\n",
        "COPY src ./src\n",
        "\n",
        "# Build the application using Maven.\n",
        "RUN mvn clean package\n",
        "\n",
        "# Create the final runtime image using the Distroless Java base image.\n",
        "FROM gcr.io/distroless/java:11\n",
        "\n",
        "# Set the working directory in the container.\n",
        "WORKDIR /app\n",
        "\n",
        "# Copy the .war file built in the previous stage to the runtime image.\n",
        "COPY --from=build /app/target/<your-application-name>.war ./app.war\n",
        "\n",
        "# Expose the port your Spring Boot application is listening on (if needed).\n",
        "# EXPOSE 8080\n",
        "\n",
        "# Specify the command to run when the container starts.\n",
        "CMD [\"./app.war\"]\n",
        "\n",
        "```\n",
        "> **Note:** `<your-application-name>` is the executable that you get after using `mvn` build command (HWC-API.war in this example). if the executable extention is `.jar` please rename `.war` to `.jar`\n"
      ],
      "metadata": {
        "id": "IHD1B_6iC08m"
      }
    },
    {
      "cell_type": "markdown",
      "source": [
        "**Step 4:** Build your Docker image using the following command (replace `your-image-name` with your desired image name and tag):\n",
        "\n",
        "``` docker build -t your-image-name:latest . ```"
      ],
      "metadata": {
        "id": "kCjIKcPlFCmR"
      }
    },
    {
      "cell_type": "markdown",
      "source": [
        "**Step 5:** Once the image is built, run below command to spin-up a container from it:\n",
        "\n",
        "``` docker run -p 8080:8080 your-image-name:latest```"
      ],
      "metadata": {
        "id": "DVJBZXMrM1ZK"
      }
    },
    {
      "cell_type": "markdown",
      "source": [
        "**Step 6:** Now the application Should be available in `http://localhost:8080` URL. You can Check it by hitting the URL."
      ],
      "metadata": {
        "id": "Vmp64McVPXEI"
      }
    },
    {
      "cell_type": "markdown",
      "source": [
        "**Step 7:** Find out the Api end point for which you want to test the SSRF Vulnerability."
      ],
      "metadata": {
        "id": "OCEvyYMFQJ9W"
      }
    },
    {
      "cell_type": "markdown",
      "source": [
        "**Step 8:** Understand What kind of Http request (`GET/POST`) the API serve and what parameter the request body accepts."
      ],
      "metadata": {
        "id": "otqjyZiLQoMJ"
      }
    },
    {
      "cell_type": "markdown",
      "source": [
        "**Step 9:** If it accepts an `URL` then hit the API Endpoint with the http://localhost:8080/admin URL as body parameter.\n",
        "\n",
        "You should able to get the `admin` consle details as a response.If you get the `admin` Console details, then the API end point is Vulnerable."
      ],
      "metadata": {
        "id": "KbZsUUUGS9Gv"
      }
    },
    {
      "cell_type": "markdown",
      "source": [
        "**Step 10:** Now Identify the Respective Code block in the Code Base and Do Necessary Changes."
      ],
      "metadata": {
        "id": "OPRQxL6hUMV3"
      }
    },
    {
      "cell_type": "markdown",
      "source": [
        "**Step 11:** Follow the Step 4 to Step 9 until you get the Expected Result."
      ],
      "metadata": {
        "id": "2NS2WQrmU8c2"
      }
    },
    {
      "cell_type": "markdown",
      "source": [
        "**Finish**"
      ],
      "metadata": {
        "id": "dbd36KtWU3NI"
      }
    },
    {
      "cell_type": "code",
      "execution_count": null,
      "metadata": {
        "id": "FzIKzN4JBRAp"
      },
      "outputs": [],
      "source": []
    }
  ]
}
